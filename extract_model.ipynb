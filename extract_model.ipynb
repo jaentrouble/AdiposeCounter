{
 "metadata": {
  "language_info": {
   "codemirror_mode": {
    "name": "ipython",
    "version": 3
   },
   "file_extension": ".py",
   "mimetype": "text/x-python",
   "name": "python",
   "nbconvert_exporter": "python",
   "pygments_lexer": "ipython3",
   "version": "3.7.8-final"
  },
  "orig_nbformat": 2,
  "kernelspec": {
   "name": "python_defaultSpec_1598280776502",
   "display_name": "Python 3.7.8 64-bit ('env': venv)"
  }
 },
 "nbformat": 4,
 "nbformat_minor": 2,
 "cells": [
  {
   "cell_type": "code",
   "execution_count": 3,
   "metadata": {},
   "outputs": [],
   "source": [
    "import tensorflow as tf\n",
    "from tensorflow import keras\n",
    "from sources.model_loader import get_model\n"
   ]
  },
  {
   "cell_type": "code",
   "execution_count": 4,
   "metadata": {
    "tags": []
   },
   "outputs": [
    {
     "output_type": "stream",
     "name": "stdout",
     "text": "Model: \"functional_1\"\n__________________________________________________________________________________________________\nLayer (type)                    Output Shape         Param #     Connected to                     \n==================================================================================================\ninput_1 (InputLayer)            [(None, 200, 200, 3) 0                                            \n__________________________________________________________________________________________________\nHR_0 (HighResolutionModule)     [(None, 200, 200, 8) 3760        input_1[0][0]                    \n__________________________________________________________________________________________________\nHR_1 (HighResolutionModule)     [(None, 200, 200, 8) 19336       HR_0[0][0]                       \n__________________________________________________________________________________________________\nHR_2 (HighResolutionModule)     [(None, 200, 200, 8) 93088       HR_1[0][0]                       \n                                                                 HR_1[0][1]                       \n__________________________________________________________________________________________________\nHR_3 (HighResolutionModule)     [(None, 200, 200, 8) 468408      HR_2[0][0]                       \n                                                                 HR_2[0][1]                       \n                                                                 HR_2[0][2]                       \n__________________________________________________________________________________________________\nHR_4 (HighResolutionModule)     [(None, 200, 200, 8) 530448      HR_3[0][0]                       \n                                                                 HR_3[0][1]                       \n                                                                 HR_3[0][2]                       \n                                                                 HR_3[0][3]                       \n__________________________________________________________________________________________________\nFusion_0 (HighResolutionFusion) [(None, 200, 200, 8) 37600       HR_4[0][0]                       \n                                                                 HR_4[0][1]                       \n                                                                 HR_4[0][2]                       \n                                                                 HR_4[0][3]                       \n__________________________________________________________________________________________________\nFinal_conv (Conv2D)             (None, 200, 200, 1)  9           Fusion_0[0][0]                   \n__________________________________________________________________________________________________\ntf_op_layer_Squeeze (TensorFlow [(None, 200, 200)]   0           Final_conv[0][0]                 \n__________________________________________________________________________________________________\nactivation (Activation)         (None, 200, 200)     0           tf_op_layer_Squeeze[0][0]        \n==================================================================================================\nTotal params: 1,152,649\nTrainable params: 1,145,721\nNon-trainable params: 6,928\n__________________________________________________________________________________________________\nweights loaded\n"
    }
   ],
   "source": [
    "model = get_model('hr_5_3_0')"
   ]
  },
  {
   "cell_type": "code",
   "execution_count": 6,
   "metadata": {},
   "outputs": [],
   "source": [
    "weights = model.get_weights()"
   ]
  },
  {
   "cell_type": "code",
   "execution_count": 7,
   "metadata": {
    "tags": []
   },
   "outputs": [],
   "source": [
    "listed_w = []\n",
    "for w in weights:\n",
    "    listed_w.append(w.tolist())"
   ]
  },
  {
   "cell_type": "code",
   "execution_count": 8,
   "metadata": {},
   "outputs": [],
   "source": [
    "import json"
   ]
  },
  {
   "cell_type": "code",
   "execution_count": 9,
   "metadata": {},
   "outputs": [],
   "source": [
    "with open('weights.txt','w') as f:\n",
    "    json.dump(listed_w, f)"
   ]
  },
  {
   "cell_type": "code",
   "execution_count": null,
   "metadata": {},
   "outputs": [],
   "source": []
  }
 ]
}